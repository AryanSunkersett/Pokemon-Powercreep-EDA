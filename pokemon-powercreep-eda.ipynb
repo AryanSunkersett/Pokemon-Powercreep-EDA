{
 "cells": [
  {
   "attachments": {},
   "cell_type": "markdown",
   "metadata": {},
   "source": [
    "# Exploratory Data Analysis of Powercreep in Pokemon"
   ]
  },
  {
   "attachments": {},
   "cell_type": "markdown",
   "metadata": {},
   "source": [
    "Original dataset taken from Josh Korngiebel on Kaggle.\n",
    "https://www.kaggle.com/datasets/jkorn28/pokemon-stats-gens-1-9 \n",
    "\n",
    "Dataset modified by me in the data prep folder. All operations in this notebook will be using the modified csv file."
   ]
  },
  {
   "attachments": {},
   "cell_type": "markdown",
   "metadata": {},
   "source": [
    "## <p style=\"text-align: center;\">Introduction</p>\n",
    "\n",
    "### **Background**\n",
    "\n",
    "Standing head and shoulders over every single media company and intellectual property group in the world is Pokemon. As the highest grossing media franchise of all time, Pokemon has cemented, no matter how big or small, a place in the minds of almost everyone. Because of the many games and multiplayer features added, communities of hobbyists dedicated to competitive Pokemon battling have developed. \n",
    "\n",
    "These hobbyists have developed remarkably optimized Pokemon teams, and continue to battle online with a thriving competitive scene. Everytime a new generation of Pokemon is released, the online competitive scene has to scramble to adjust to what has been deemed \"powercreep\". Powercreep is a term used throughout gaming to generally refer to the phenomenon of new > old, that is, new content released by the maker of the game more often than not tend to outclass older content.\n",
    "\n",
    "### **Goal**\n",
    "\n",
    "Leveraging Python libraries, we hope to both quantify and visualize the effect of powercreep. This will be done by analyzing what makes a Pokemon \"strong\", and using that as a metric to view powercreep over the 9 generations of Pokemon."
   ]
  },
  {
   "attachments": {},
   "cell_type": "markdown",
   "metadata": {},
   "source": [
    "## <p style=\"text-align: center;\">Table of Contents</p>"
   ]
  },
  {
   "attachments": {},
   "cell_type": "markdown",
   "metadata": {},
   "source": [
    "1. The Data\n",
    "    - Loading\n",
    "    - Previewing & Explaining\n",
    "    - Error Checking\n",
    "        - The Extreme Outlier\n",
    "        - Suspicious Stats\n",
    "        - Type Testing\n",
    "1. Analysis\n",
    "    - Stat Distributions\n",
    "        - Global Averages and Medians\n",
    "        - Generational Averages and Medians\n",
    "    - Special Pokemon\n",
    "        - Legendaries\n",
    "        - Mythicals\n",
    "        - Notables\n",
    "        - \"Optimized\" Pokemon (note to self, make a scatterplot or some other one of all pokemon with bst on x and standard deviation on y and color them by generation)\n",
    "        - Average Type Weakness\n",
    "1. Conclusions\n",
    "    "
   ]
  },
  {
   "attachments": {},
   "cell_type": "markdown",
   "metadata": {},
   "source": [
    "## <p style=\"text-align: center;\">The Data</p>\n",
    "\n",
    "### **Loading (+ Libraries)**"
   ]
  },
  {
   "cell_type": "code",
   "execution_count": 48,
   "metadata": {},
   "outputs": [],
   "source": [
    "import numpy as np\n",
    "import pandas as pd\n",
    "import seaborn as sns\n",
    "import matplotlib.pyplot as plt"
   ]
  },
  {
   "cell_type": "code",
   "execution_count": 49,
   "metadata": {},
   "outputs": [],
   "source": [
    "pokedf = pd.read_csv('pokemon_data_custom.csv')"
   ]
  },
  {
   "attachments": {},
   "cell_type": "markdown",
   "metadata": {},
   "source": [
    "The data has already been prepared in another folder on this repository. For more detailed information on what changes were made to the original dataset by Josh Korngiebel, refer to that folder. Briefly, useful columns were added for classification, and 7 missing Pokemon were added."
   ]
  },
  {
   "attachments": {},
   "cell_type": "markdown",
   "metadata": {},
   "source": [
    "### **Previewing & Explaining**"
   ]
  },
  {
   "cell_type": "code",
   "execution_count": 50,
   "metadata": {},
   "outputs": [
    {
     "data": {
      "text/html": [
       "<div>\n",
       "<style scoped>\n",
       "    .dataframe tbody tr th:only-of-type {\n",
       "        vertical-align: middle;\n",
       "    }\n",
       "\n",
       "    .dataframe tbody tr th {\n",
       "        vertical-align: top;\n",
       "    }\n",
       "\n",
       "    .dataframe thead th {\n",
       "        text-align: right;\n",
       "    }\n",
       "</style>\n",
       "<table border=\"1\" class=\"dataframe\">\n",
       "  <thead>\n",
       "    <tr style=\"text-align: right;\">\n",
       "      <th></th>\n",
       "      <th>Dex No</th>\n",
       "      <th>Name</th>\n",
       "      <th>Base Name</th>\n",
       "      <th>Type 1</th>\n",
       "      <th>Type 2</th>\n",
       "      <th>BST</th>\n",
       "      <th>HP</th>\n",
       "      <th>Attack</th>\n",
       "      <th>Defense</th>\n",
       "      <th>Sp. Attack</th>\n",
       "      <th>Sp. Defense</th>\n",
       "      <th>Speed</th>\n",
       "      <th>Generation</th>\n",
       "      <th>Legendary</th>\n",
       "      <th>Mythical</th>\n",
       "      <th>Notable</th>\n",
       "    </tr>\n",
       "  </thead>\n",
       "  <tbody>\n",
       "    <tr>\n",
       "      <th>0</th>\n",
       "      <td>1</td>\n",
       "      <td>Bulbasaur</td>\n",
       "      <td>Bulbasaur</td>\n",
       "      <td>GRASS</td>\n",
       "      <td>POISON</td>\n",
       "      <td>318</td>\n",
       "      <td>45</td>\n",
       "      <td>49</td>\n",
       "      <td>49</td>\n",
       "      <td>65</td>\n",
       "      <td>65</td>\n",
       "      <td>45</td>\n",
       "      <td>1</td>\n",
       "      <td>False</td>\n",
       "      <td>False</td>\n",
       "      <td>False</td>\n",
       "    </tr>\n",
       "    <tr>\n",
       "      <th>1</th>\n",
       "      <td>2</td>\n",
       "      <td>Ivysaur</td>\n",
       "      <td>Ivysaur</td>\n",
       "      <td>GRASS</td>\n",
       "      <td>POISON</td>\n",
       "      <td>405</td>\n",
       "      <td>60</td>\n",
       "      <td>62</td>\n",
       "      <td>63</td>\n",
       "      <td>80</td>\n",
       "      <td>80</td>\n",
       "      <td>60</td>\n",
       "      <td>1</td>\n",
       "      <td>False</td>\n",
       "      <td>False</td>\n",
       "      <td>False</td>\n",
       "    </tr>\n",
       "    <tr>\n",
       "      <th>2</th>\n",
       "      <td>3</td>\n",
       "      <td>Venusaur</td>\n",
       "      <td>Venusaur</td>\n",
       "      <td>GRASS</td>\n",
       "      <td>POISON</td>\n",
       "      <td>525</td>\n",
       "      <td>80</td>\n",
       "      <td>82</td>\n",
       "      <td>83</td>\n",
       "      <td>100</td>\n",
       "      <td>100</td>\n",
       "      <td>80</td>\n",
       "      <td>1</td>\n",
       "      <td>False</td>\n",
       "      <td>False</td>\n",
       "      <td>False</td>\n",
       "    </tr>\n",
       "    <tr>\n",
       "      <th>3</th>\n",
       "      <td>3</td>\n",
       "      <td>Mega Venusaur</td>\n",
       "      <td>Venusaur</td>\n",
       "      <td>GRASS</td>\n",
       "      <td>POISON</td>\n",
       "      <td>625</td>\n",
       "      <td>80</td>\n",
       "      <td>100</td>\n",
       "      <td>123</td>\n",
       "      <td>122</td>\n",
       "      <td>120</td>\n",
       "      <td>80</td>\n",
       "      <td>6</td>\n",
       "      <td>False</td>\n",
       "      <td>False</td>\n",
       "      <td>False</td>\n",
       "    </tr>\n",
       "    <tr>\n",
       "      <th>4</th>\n",
       "      <td>4</td>\n",
       "      <td>Charmander</td>\n",
       "      <td>Charmander</td>\n",
       "      <td>FIRE</td>\n",
       "      <td>-</td>\n",
       "      <td>309</td>\n",
       "      <td>39</td>\n",
       "      <td>52</td>\n",
       "      <td>43</td>\n",
       "      <td>60</td>\n",
       "      <td>50</td>\n",
       "      <td>65</td>\n",
       "      <td>1</td>\n",
       "      <td>False</td>\n",
       "      <td>False</td>\n",
       "      <td>False</td>\n",
       "    </tr>\n",
       "  </tbody>\n",
       "</table>\n",
       "</div>"
      ],
      "text/plain": [
       "   Dex No           Name   Base Name Type 1  Type 2  BST  HP  Attack  Defense  \\\n",
       "0       1      Bulbasaur   Bulbasaur  GRASS  POISON  318  45      49       49   \n",
       "1       2        Ivysaur     Ivysaur  GRASS  POISON  405  60      62       63   \n",
       "2       3       Venusaur    Venusaur  GRASS  POISON  525  80      82       83   \n",
       "3       3  Mega Venusaur    Venusaur  GRASS  POISON  625  80     100      123   \n",
       "4       4     Charmander  Charmander   FIRE       -  309  39      52       43   \n",
       "\n",
       "   Sp. Attack  Sp. Defense  Speed  Generation  Legendary  Mythical  Notable  \n",
       "0          65           65     45           1      False     False    False  \n",
       "1          80           80     60           1      False     False    False  \n",
       "2         100          100     80           1      False     False    False  \n",
       "3         122          120     80           6      False     False    False  \n",
       "4          60           50     65           1      False     False    False  "
      ]
     },
     "execution_count": 50,
     "metadata": {},
     "output_type": "execute_result"
    }
   ],
   "source": [
    "pokedf.head()"
   ]
  },
  {
   "cell_type": "code",
   "execution_count": 51,
   "metadata": {},
   "outputs": [
    {
     "data": {
      "text/html": [
       "<div>\n",
       "<style scoped>\n",
       "    .dataframe tbody tr th:only-of-type {\n",
       "        vertical-align: middle;\n",
       "    }\n",
       "\n",
       "    .dataframe tbody tr th {\n",
       "        vertical-align: top;\n",
       "    }\n",
       "\n",
       "    .dataframe thead th {\n",
       "        text-align: right;\n",
       "    }\n",
       "</style>\n",
       "<table border=\"1\" class=\"dataframe\">\n",
       "  <thead>\n",
       "    <tr style=\"text-align: right;\">\n",
       "      <th></th>\n",
       "      <th>Dex No</th>\n",
       "      <th>Name</th>\n",
       "      <th>Base Name</th>\n",
       "      <th>Type 1</th>\n",
       "      <th>Type 2</th>\n",
       "      <th>BST</th>\n",
       "      <th>HP</th>\n",
       "      <th>Attack</th>\n",
       "      <th>Defense</th>\n",
       "      <th>Sp. Attack</th>\n",
       "      <th>Sp. Defense</th>\n",
       "      <th>Speed</th>\n",
       "      <th>Generation</th>\n",
       "      <th>Legendary</th>\n",
       "      <th>Mythical</th>\n",
       "      <th>Notable</th>\n",
       "    </tr>\n",
       "  </thead>\n",
       "  <tbody>\n",
       "    <tr>\n",
       "      <th>1196</th>\n",
       "      <td>1013</td>\n",
       "      <td>Sinistcha</td>\n",
       "      <td>Sinistcha</td>\n",
       "      <td>GRASS</td>\n",
       "      <td>GHOST</td>\n",
       "      <td>508</td>\n",
       "      <td>71</td>\n",
       "      <td>60</td>\n",
       "      <td>106</td>\n",
       "      <td>121</td>\n",
       "      <td>80</td>\n",
       "      <td>70</td>\n",
       "      <td>9</td>\n",
       "      <td>False</td>\n",
       "      <td>False</td>\n",
       "      <td>False</td>\n",
       "    </tr>\n",
       "    <tr>\n",
       "      <th>1197</th>\n",
       "      <td>1014</td>\n",
       "      <td>Okidogi</td>\n",
       "      <td>Okidogi</td>\n",
       "      <td>POISON</td>\n",
       "      <td>FIGHTING</td>\n",
       "      <td>555</td>\n",
       "      <td>88</td>\n",
       "      <td>128</td>\n",
       "      <td>115</td>\n",
       "      <td>58</td>\n",
       "      <td>86</td>\n",
       "      <td>80</td>\n",
       "      <td>9</td>\n",
       "      <td>True</td>\n",
       "      <td>False</td>\n",
       "      <td>False</td>\n",
       "    </tr>\n",
       "    <tr>\n",
       "      <th>1198</th>\n",
       "      <td>1015</td>\n",
       "      <td>Munkidori</td>\n",
       "      <td>Munkidori</td>\n",
       "      <td>POISON</td>\n",
       "      <td>PSYCHIC</td>\n",
       "      <td>555</td>\n",
       "      <td>88</td>\n",
       "      <td>75</td>\n",
       "      <td>66</td>\n",
       "      <td>130</td>\n",
       "      <td>90</td>\n",
       "      <td>106</td>\n",
       "      <td>9</td>\n",
       "      <td>True</td>\n",
       "      <td>False</td>\n",
       "      <td>False</td>\n",
       "    </tr>\n",
       "    <tr>\n",
       "      <th>1199</th>\n",
       "      <td>1016</td>\n",
       "      <td>Fezandipiti</td>\n",
       "      <td>Fezandipiti</td>\n",
       "      <td>POISON</td>\n",
       "      <td>FAIRY</td>\n",
       "      <td>555</td>\n",
       "      <td>88</td>\n",
       "      <td>91</td>\n",
       "      <td>82</td>\n",
       "      <td>70</td>\n",
       "      <td>125</td>\n",
       "      <td>99</td>\n",
       "      <td>9</td>\n",
       "      <td>True</td>\n",
       "      <td>False</td>\n",
       "      <td>False</td>\n",
       "    </tr>\n",
       "    <tr>\n",
       "      <th>1200</th>\n",
       "      <td>1017</td>\n",
       "      <td>Ogerpon</td>\n",
       "      <td>Ogerpon</td>\n",
       "      <td>GRASS</td>\n",
       "      <td>-</td>\n",
       "      <td>550</td>\n",
       "      <td>80</td>\n",
       "      <td>120</td>\n",
       "      <td>84</td>\n",
       "      <td>60</td>\n",
       "      <td>96</td>\n",
       "      <td>110</td>\n",
       "      <td>9</td>\n",
       "      <td>True</td>\n",
       "      <td>False</td>\n",
       "      <td>False</td>\n",
       "    </tr>\n",
       "  </tbody>\n",
       "</table>\n",
       "</div>"
      ],
      "text/plain": [
       "      Dex No         Name    Base Name  Type 1    Type 2  BST  HP  Attack  \\\n",
       "1196    1013    Sinistcha    Sinistcha   GRASS     GHOST  508  71      60   \n",
       "1197    1014      Okidogi      Okidogi  POISON  FIGHTING  555  88     128   \n",
       "1198    1015    Munkidori    Munkidori  POISON   PSYCHIC  555  88      75   \n",
       "1199    1016  Fezandipiti  Fezandipiti  POISON     FAIRY  555  88      91   \n",
       "1200    1017      Ogerpon      Ogerpon   GRASS         -  550  80     120   \n",
       "\n",
       "      Defense  Sp. Attack  Sp. Defense  Speed  Generation  Legendary  \\\n",
       "1196      106         121           80     70           9      False   \n",
       "1197      115          58           86     80           9       True   \n",
       "1198       66         130           90    106           9       True   \n",
       "1199       82          70          125     99           9       True   \n",
       "1200       84          60           96    110           9       True   \n",
       "\n",
       "      Mythical  Notable  \n",
       "1196     False    False  \n",
       "1197     False    False  \n",
       "1198     False    False  \n",
       "1199     False    False  \n",
       "1200     False    False  "
      ]
     },
     "execution_count": 51,
     "metadata": {},
     "output_type": "execute_result"
    }
   ],
   "source": [
    "pokedf.tail()"
   ]
  },
  {
   "attachments": {},
   "cell_type": "markdown",
   "metadata": {},
   "source": [
    "The data contains 16 columns.\n",
    "- Dex No: Refers to the official *Pokedex* number, of the Pokemon. Every Pokemon has a unique Pokedex number, or as it will be referred to, Dex number.\n",
    "\n",
    "- Name: Self explanatory with one caveat, certain Pokemon are considered *alternate forms*, that is, they are the same species of Pokemon, but simply a different variant. One example is the Mega Venusaur visible in the dataframe head. Notice the entry shares the same Dex number as its base form, Venusaur.\n",
    "\n",
    "- Base Name: Every Pokemon has the same Base Name as Name, except the aformentioned variants, who instead have the name of the original form.\n",
    "\n",
    "- Type 1 and 2: There are 18 elemental \"types\" of Pokemon, which will be explained in more detail later. Notice that not all Pokemon have two types, some only have one. In that case, the Type 2 column will have a placeholder '-'.\n",
    "\n",
    "- BST, HP, Attack, Defense, Sp. Attack, Sp. Defense, and Speed: HP through Speed all refer to different stats of a Pokemon. \"Sp\" in two of the columns stands for \"Special\" which just refers to a slightly different but equally important Attack and Defense stat. \"HP\" stands for \"Health Points\". BST is simply the total of these six fundamental stats. Note that higher = better when it comes to stats.\n",
    "\n",
    "- Generation: Pokemon are released not one by one, but in large batches, referred to as \"Generations\", or more colloquially, just \"Gens\". There are currently nine generations of Pokemon, and this column assigns the corresponding generation number to each Pokemon. Note: The generations are in order with two exceptions, those being Mega Evolutions, which were introduced to older Pokemon in Generation 6. While Mega Evolutions tehnically belong to the generation that their base form is from, since they were all added in at a later date, I have decided to keep them under the Generation 6 banner.\n",
    "\n",
    "- Legendary, Mythical, and Notable: These are all special classes of Pokemon. Legendary and Mythical and official designations by the Pokemon Company. Notable is a classification I have chosen to add to Pokemon that miscellaneously special, and are not officially Legendary or Mythical."
   ]
  },
  {
   "attachments": {},
   "cell_type": "markdown",
   "metadata": {},
   "source": [
    "### **Error Testing**"
   ]
  },
  {
   "attachments": {},
   "cell_type": "markdown",
   "metadata": {},
   "source": [
    "#### The Extreme Outlier\n",
    "\n",
    "Publicly online we can see what should be the highest and lowest stats in each category, so it should be simple to see if there are any extreme outliers. Before we do this, we will manually remove a Pokemon that, while technically is in the Pokedex, is not obtainable in game, and therefore should not be considered. This Pokemon is Eternamax Eternatus, a Pokemon meant only as a one-time boss battle.\n",
    "\n",
    "This was not done in the data prep file in order to not have a missing Pokemon in case anyone else wishes to use the csv file."
   ]
  },
  {
   "cell_type": "code",
   "execution_count": 52,
   "metadata": {},
   "outputs": [],
   "source": [
    "pokedf = pokedf[pokedf['Name'] != \"Eternamax\"]"
   ]
  },
  {
   "cell_type": "code",
   "execution_count": 53,
   "metadata": {},
   "outputs": [
    {
     "data": {
      "text/html": [
       "<div>\n",
       "<style scoped>\n",
       "    .dataframe tbody tr th:only-of-type {\n",
       "        vertical-align: middle;\n",
       "    }\n",
       "\n",
       "    .dataframe tbody tr th {\n",
       "        vertical-align: top;\n",
       "    }\n",
       "\n",
       "    .dataframe thead th {\n",
       "        text-align: right;\n",
       "    }\n",
       "</style>\n",
       "<table border=\"1\" class=\"dataframe\">\n",
       "  <thead>\n",
       "    <tr style=\"text-align: right;\">\n",
       "      <th></th>\n",
       "      <th>Dex No</th>\n",
       "      <th>Name</th>\n",
       "      <th>Base Name</th>\n",
       "      <th>Type 1</th>\n",
       "      <th>Type 2</th>\n",
       "      <th>BST</th>\n",
       "      <th>HP</th>\n",
       "      <th>Attack</th>\n",
       "      <th>Defense</th>\n",
       "      <th>Sp. Attack</th>\n",
       "      <th>Sp. Defense</th>\n",
       "      <th>Speed</th>\n",
       "      <th>Generation</th>\n",
       "      <th>Legendary</th>\n",
       "      <th>Mythical</th>\n",
       "      <th>Notable</th>\n",
       "    </tr>\n",
       "  </thead>\n",
       "  <tbody>\n",
       "    <tr>\n",
       "      <th>1057</th>\n",
       "      <td>890</td>\n",
       "      <td>Eternatus</td>\n",
       "      <td>Eternatus</td>\n",
       "      <td>POISON</td>\n",
       "      <td>DRAGON</td>\n",
       "      <td>690</td>\n",
       "      <td>140</td>\n",
       "      <td>85</td>\n",
       "      <td>95</td>\n",
       "      <td>145</td>\n",
       "      <td>95</td>\n",
       "      <td>130</td>\n",
       "      <td>8</td>\n",
       "      <td>True</td>\n",
       "      <td>False</td>\n",
       "      <td>False</td>\n",
       "    </tr>\n",
       "  </tbody>\n",
       "</table>\n",
       "</div>"
      ],
      "text/plain": [
       "      Dex No       Name  Base Name  Type 1  Type 2  BST   HP  Attack  Defense  \\\n",
       "1057     890  Eternatus  Eternatus  POISON  DRAGON  690  140      85       95   \n",
       "\n",
       "      Sp. Attack  Sp. Defense  Speed  Generation  Legendary  Mythical  Notable  \n",
       "1057         145           95    130           8       True     False    False  "
      ]
     },
     "execution_count": 53,
     "metadata": {},
     "output_type": "execute_result"
    }
   ],
   "source": [
    "# verify that the Pokemon was removed by checking for all Pokemon with its Base Name\n",
    "pokedf[pokedf['Base Name'] == \"Eternatus\"]"
   ]
  },
  {
   "attachments": {},
   "cell_type": "markdown",
   "metadata": {},
   "source": [
    "#### Suspicious Values"
   ]
  },
  {
   "cell_type": "code",
   "execution_count": 54,
   "metadata": {},
   "outputs": [
    {
     "name": "stdout",
     "output_type": "stream",
     "text": [
      "No Pokémon have BST stats below 175 or above 1125.\n",
      "No Pokémon have HP stats below 1 or above 255.\n",
      "No Pokémon have Attack stats below 5 or above 190.\n",
      "No Pokémon have Defense stats below 5 or above 230.\n",
      "No Pokémon have Sp. Attack stats below 10 or above 194.\n",
      "No Pokémon have Sp. Defense stats below 20 or above 230.\n",
      "No Pokémon have Speed stats below 5 or above 200.\n"
     ]
    }
   ],
   "source": [
    "# highest and lowest recorded stats taken directly from the online resource, Bulbapedia\n",
    "stat_extremes = {\n",
    "    'BST': {'min': 175, 'max': 1125},\n",
    "    'HP': {'min': 1, 'max': 255},\n",
    "    'Attack': {'min': 5, 'max': 190},\n",
    "    'Defense': {'min': 5, 'max': 230},\n",
    "    'Sp. Attack': {'min': 10, 'max': 194},\n",
    "    'Sp. Defense': {'min': 20, 'max': 230},\n",
    "    'Speed': {'min': 5, 'max': 200}\n",
    "}\n",
    "\n",
    "# iterate through the stats\n",
    "for stat, extremes in stat_extremes.items():\n",
    "    min_value = extremes['min']\n",
    "    max_value = extremes['max']\n",
    "\n",
    "    # store checks as booleans\n",
    "    has_below_min = (pokedf[stat] < min_value).any()\n",
    "    has_above_max = (pokedf[stat] > max_value).any()\n",
    "\n",
    "    # print results\n",
    "    if has_below_min:\n",
    "        print(f\"At least one Pokémon has a {stat} stat below {min_value}.\")\n",
    "\n",
    "    if has_above_max:\n",
    "        print(f\"At least one Pokémon has a {stat} stat above {max_value}.\")\n",
    "\n",
    "    if not has_below_min and not has_above_max:\n",
    "        print(f\"No Pokémon have {stat} stats below {min_value} or above {max_value}.\")\n"
   ]
  },
  {
   "attachments": {},
   "cell_type": "markdown",
   "metadata": {},
   "source": [
    "There don't appear to be any major outlying stats."
   ]
  },
  {
   "attachments": {},
   "cell_type": "markdown",
   "metadata": {},
   "source": [
    "#### Type Testing\n",
    "\n",
    "A simple test to make sure there are no typos or unexpected values for the Pokemon types."
   ]
  },
  {
   "cell_type": "code",
   "execution_count": 55,
   "metadata": {},
   "outputs": [
    {
     "name": "stdout",
     "output_type": "stream",
     "text": [
      "Number of unique values in 'Type 1' column: 18\n",
      "Number of unique values in 'Type 2' column: 19\n"
     ]
    }
   ],
   "source": [
    "print(f\"Number of unique values in 'Type 1' column: {pokedf['Type 1'].nunique()}\")\n",
    "print(f\"Number of unique values in 'Type 2' column: {pokedf['Type 2'].nunique()}\")"
   ]
  },
  {
   "attachments": {},
   "cell_type": "markdown",
   "metadata": {},
   "source": [
    "There are 18 types in Pokemon, and for the dataset, a placeholder '-' for the secondary typing of monotype Pokemon, so there are no unexpected values.\n",
    "\n",
    "With that, we have finished verifying the accuracy of our dataset. Note that mispellings of Pokemon names could be present, but since in the data preparation we made sure that all Pokemon are labelled with the correct generation, it doesn't matter whether there are any spelling mistakes in names."
   ]
  },
  {
   "attachments": {},
   "cell_type": "markdown",
   "metadata": {},
   "source": [
    "## <h1 style=\"text-align: center;\">Analysis</h1>"
   ]
  },
  {
   "attachments": {},
   "cell_type": "markdown",
   "metadata": {},
   "source": [
    "### **Stat Distributions**"
   ]
  }
 ],
 "metadata": {
  "kernelspec": {
   "display_name": "Python 3",
   "language": "python",
   "name": "python3"
  },
  "language_info": {
   "codemirror_mode": {
    "name": "ipython",
    "version": 3
   },
   "file_extension": ".py",
   "mimetype": "text/x-python",
   "name": "python",
   "nbconvert_exporter": "python",
   "pygments_lexer": "ipython3",
   "version": "3.11.2"
  },
  "orig_nbformat": 4
 },
 "nbformat": 4,
 "nbformat_minor": 2
}
